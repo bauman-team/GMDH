{
 "cells": [
  {
   "cell_type": "markdown",
   "id": "6957e1c6",
   "metadata": {},
   "source": [
    "# Simple example of `gmdh` module using"
   ]
  },
  {
   "cell_type": "markdown",
   "id": "da18d48a",
   "metadata": {},
   "source": [
    "Let's consider the simplest example of using the basic combinatorial COMBI algorithm from the gmdh module.\n",
    "\n",
    "To begin with, we import the Combi model and the split_data function from the module to split the source data into training and test samples:"
   ]
  },
  {
   "cell_type": "code",
   "execution_count": 1,
   "id": "b12f53b1",
   "metadata": {},
   "outputs": [],
   "source": [
    "from gmdh import Combi, split_data"
   ]
  },
  {
   "cell_type": "markdown",
   "id": "2a2a5cf0",
   "metadata": {},
   "source": [
    "Let's create a simple dataset in which the target values of the matrix `y` will simply be the sum of the corresponding pair of values `x1` and `x2` of the matrix `X`:"
   ]
  },
  {
   "cell_type": "code",
   "execution_count": 2,
   "id": "ea46bd00",
   "metadata": {},
   "outputs": [],
   "source": [
    "X = [[1, 2], [3, 2], [7, 0], [5, 5], [1, 4], [2, 6]]\n",
    "y = [3, 5, 7, 10, 5, 8]"
   ]
  },
  {
   "cell_type": "markdown",
   "id": "e6350e96",
   "metadata": {},
   "source": [
    "Let's divide our data into training and test samples:"
   ]
  },
  {
   "cell_type": "code",
   "execution_count": 3,
   "id": "8881c535",
   "metadata": {},
   "outputs": [
    {
     "name": "stdout",
     "output_type": "stream",
     "text": [
      "x_train:\n",
      " [[1. 2.]\n",
      " [3. 2.]\n",
      " [7. 0.]\n",
      " [5. 5.]\n",
      " [1. 4.]]\n",
      "x_test:\n",
      " [[2. 6.]]\n",
      "\n",
      "y_train:\n",
      " [ 3.  5.  7. 10.  5.]\n",
      "y_test:\n",
      " [8.]\n"
     ]
    }
   ],
   "source": [
    "x_train, x_test, y_train, y_test = split_data(X, y)\n",
    "\n",
    "# print result arrays\n",
    "print('x_train:\\n', x_train)\n",
    "print('x_test:\\n', x_test)\n",
    "print('\\ny_train:\\n', y_train)\n",
    "print('y_test:\\n', y_test)"
   ]
  },
  {
   "cell_type": "markdown",
   "id": "7161766e",
   "metadata": {},
   "source": [
    "Let's create a `Combi` model, train it using training data by the `fit` method and then predict the result for the test sample using the `predict` method:"
   ]
  },
  {
   "cell_type": "code",
   "execution_count": 4,
   "id": "d8eaaf26",
   "metadata": {},
   "outputs": [
    {
     "name": "stdout",
     "output_type": "stream",
     "text": [
      "y_predicted:  [8.]\n",
      "y_test:  [8.]\n"
     ]
    }
   ],
   "source": [
    "model = Combi()\n",
    "model.fit(x_train, y_train)\n",
    "y_predicted = model.predict(x_test)\n",
    "\n",
    "# compare predicted and real value\n",
    "print('y_predicted: ', y_predicted)\n",
    "print('y_test: ', y_test)"
   ]
  },
  {
   "cell_type": "markdown",
   "id": "1dba5028",
   "metadata": {},
   "source": [
    "The predicted result coincided with the real value! Now we will output a polynomial that displays the pattern found by the model:"
   ]
  },
  {
   "cell_type": "code",
   "execution_count": 5,
   "id": "1fe82891",
   "metadata": {},
   "outputs": [
    {
     "name": "stdout",
     "output_type": "stream",
     "text": [
      "polynomial:  y = x1 + x2\n"
     ]
    }
   ],
   "source": [
    "print('polynomial: ', model.get_best_polynomial())"
   ]
  }
 ],
 "metadata": {
  "kernelspec": {
   "display_name": "Python 3 (ipykernel)",
   "language": "python",
   "name": "python3"
  },
  "language_info": {
   "codemirror_mode": {
    "name": "ipython",
    "version": 3
   },
   "file_extension": ".py",
   "mimetype": "text/x-python",
   "name": "python",
   "nbconvert_exporter": "python",
   "pygments_lexer": "ipython3",
   "version": "3.8.6"
  }
 },
 "nbformat": 4,
 "nbformat_minor": 5
}
