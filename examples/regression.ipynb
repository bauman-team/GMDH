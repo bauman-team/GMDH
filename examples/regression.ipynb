{
 "cells": [
  {
   "cell_type": "markdown",
   "id": "b7a3c7c9",
   "metadata": {},
   "source": [
    "## Подключение вспомогательных библиотек"
   ]
  },
  {
   "cell_type": "code",
   "execution_count": 1,
   "id": "f2612238",
   "metadata": {},
   "outputs": [],
   "source": [
    "import numpy as np\n",
    "import pandas as pd\n",
    "from sklearn.linear_model import LinearRegression\n",
    "from sklearn.metrics import mean_squared_error\n",
    "from sklearn.model_selection import train_test_split\n",
    "from sklearn.metrics import mean_absolute_error, mean_squared_error, r2_score, explained_variance_score\n",
    "from itertools import combinations\n",
    "from sklearn.preprocessing import MinMaxScaler\n",
    "import sys\n",
    "import matplotlib.pyplot as plt\n",
    "import seaborn as sns\n",
    "import importlib.util"
   ]
  },
  {
   "cell_type": "markdown",
   "id": "cce62905",
   "metadata": {},
   "source": [
    "## Подключение библиотеки `gmdhpy`"
   ]
  },
  {
   "cell_type": "code",
   "execution_count": 2,
   "id": "b4fabbb7",
   "metadata": {
    "scrolled": true
   },
   "outputs": [],
   "source": [
    "sys.path.insert(1, \"C:/Users/Mi/Documents/Diploma/GMDH/build/Release\")\n",
    "sys.path.insert(1, \"/home/mikhail-xnor/Projects/GMDH/build\")\n",
    "sys.path.insert(1, \"/Users/mikhail-x/Projects/GMDH/build\")\n",
    "import gmdhpy as gm"
   ]
  },
  {
   "cell_type": "code",
   "execution_count": 17,
   "id": "acf7d2d5",
   "metadata": {},
   "outputs": [
    {
     "name": "stdout",
     "output_type": "stream",
     "text": [
      "Состав библиотеки\n"
     ]
    },
    {
     "data": {
      "text/plain": [
       "['__doc__',\n",
       " '__file__',\n",
       " '__loader__',\n",
       " '__name__',\n",
       " '__package__',\n",
       " '__path__',\n",
       " '__spec__']"
      ]
     },
     "execution_count": 17,
     "metadata": {},
     "output_type": "execute_result"
    }
   ],
   "source": [
    "print(\"Состав библиотеки\")\n",
    "dir(gm)"
   ]
  },
  {
   "cell_type": "markdown",
   "id": "8b4f5206",
   "metadata": {},
   "source": [
    "## Код для линейной регрессии, реализация combi на python, функции метрик"
   ]
  },
  {
   "cell_type": "code",
   "execution_count": 4,
   "id": "5b113d71",
   "metadata": {},
   "outputs": [],
   "source": [
    "def data_preparation(x, lags, validate_size, test_size=0):\n",
    "    x_data = list()\n",
    "    y_data = list()\n",
    "    for i in range(len(x) - lags):\n",
    "        x_data.append(list(x[i:i+lags]))\n",
    "        y_data.append(x[i+lags])\n",
    "    x_train, x_val, y_train, y_val = train_test_split(x_data, y_data, test_size=validate_size, shuffle=False)\n",
    "    x_train = np.array(x_train)\n",
    "    x_val = np.array(x_val)\n",
    "    if test_size > 0:\n",
    "        x_train, x_test, y_train, y_test = train_test_split(x_train, y_train, test_size=test_size, shuffle=False)\n",
    "        x_train = np.array(x_train)\n",
    "        x_test = np.array(x_test)\n",
    "        return x_train, y_train, x_test, y_test, x_val, y_val\n",
    "    else:\n",
    "        return x_train, y_train, x_val, y_val\n",
    "\n",
    "def print_polynom(polynom, coeffs):\n",
    "    best_polynom_str = \"y =\"\n",
    "    for i in range(len(polynom)):\n",
    "        if coeffs[i] > 0:\n",
    "            if i > 0:\n",
    "                best_polynom_str += \" + \"\n",
    "            else:\n",
    "                best_polynom_str += \" \"\n",
    "        else:\n",
    "            best_polynom_str += \" - \"\n",
    "        best_polynom_str += str(round(abs(coeffs[i]), 4))\n",
    "        if i != len(coeffs) - 1:\n",
    "            best_polynom_str += \"*x\" + str(polynom[i] + 1)\n",
    "    print(best_polynom_str)\n",
    "    \n",
    "def regression(x, lags, validate_size):\n",
    "    x_train, y_train, x_val, y_val = data_preparation(x, lags, validate_size)\n",
    "    lr = LinearRegression(n_jobs=-1)\n",
    "    lr.fit(x_train, y_train)\n",
    "    coeffs = list(lr.coef_)\n",
    "    coeffs.append(lr.intercept_)\n",
    "    coeffs = [round(coeff, 6) for coeff in coeffs]\n",
    "    y_pred = lr.predict(x_val)\n",
    "    error = round(mean_squared_error(y_pred, y_val), 6)\n",
    "    print_polynom(range(lags + 1), coeffs)\n",
    "    return y_pred\n",
    "\n",
    "def regression_combi(x, lags, validate_size, test_size):\n",
    "    x_train, y_train, x_test, y_test, x_val, y_val = data_preparation(x, lags, validate_size, test_size)\n",
    "    lr = LinearRegression(n_jobs=-1)\n",
    "    last_error = 100000000000000\n",
    "    best_coeffs = []\n",
    "    best_polynom = []\n",
    "    for level in range(1, x_train.shape[1] + 1):\n",
    "        errors = []\n",
    "        for comb in combinations(range(x_train.shape[1]), level):\n",
    "            lr.fit(x_train[:, comb], y_train)\n",
    "            coeffs = list(lr.coef_)\n",
    "            coeffs.append(lr.intercept_)\n",
    "            coeffs = [round(coeff, 6) for coeff in coeffs]\n",
    "            y_pred = lr.predict(x_test[:, comb])\n",
    "            error = round(mean_squared_error(y_pred, y_test), 6)\n",
    "            comb = list(comb)\n",
    "            comb.append(lags)\n",
    "            errors.append((error, coeffs, comb))\n",
    "        errors.sort()\n",
    "        #print(errors[0])\n",
    "        if last_error >= errors[0][0]:\n",
    "            last_error = errors[0][0]\n",
    "            best_coeffs = errors[0][1]\n",
    "            best_polynom = errors[0][2]\n",
    "        else:\n",
    "            break\n",
    "    print_polynom(best_polynom, best_coeffs)\n",
    "    y_pred = lr.fit(x_train[:, best_polynom[:-1]], y_train).predict(x_val[:, best_polynom[:-1]])\n",
    "    return y_pred\n",
    "\n",
    "def print_metrics(y_test, y_pred):\n",
    "    print(\"\\nMETRICS\")\n",
    "    print(f\"R^2: {r2_score(y_test, y_pred)}\")\n",
    "    print(f\"MSE: {mean_squared_error(y_test, y_pred)}\")\n",
    "    print(f\"MAE: {mean_absolute_error(y_test, y_pred)}\\n\")\n",
    "    \n",
    "def ts_stat(y_real, y_pred):\n",
    "    y_real_diff = np.diff(y_real)\n",
    "    y_pred_diff = np.diff(y_pred)\n",
    "    print(\"right:\", ((y_real_diff * y_pred_diff > 0)).sum())\n",
    "    print(\"wrong:\", ((y_real_diff * y_pred_diff < 0)).sum())\n",
    "    print(\"zero:\", ((y_real_diff * y_pred_diff == 0)).sum())"
   ]
  },
  {
   "cell_type": "markdown",
   "id": "8f1d1f8d",
   "metadata": {},
   "source": [
    "## Загрузка и предобработка датасета"
   ]
  },
  {
   "cell_type": "code",
   "execution_count": 5,
   "id": "d9ae1177",
   "metadata": {},
   "outputs": [],
   "source": [
    "datasets = ['numbers', 'sber', 'notebooks']\n",
    "chosen_dataset = datasets[1]"
   ]
  },
  {
   "cell_type": "code",
   "execution_count": 6,
   "id": "acf24b05",
   "metadata": {
    "scrolled": true
   },
   "outputs": [],
   "source": [
    "if chosen_dataset == datasets[0]:\n",
    "    data = np.array([i + np.random.rand() for i in range(100)])\n",
    "    lags = 5\n",
    "    test_size = 0.33\n",
    "    validate_size = 0.2\n",
    "    is_ts = True\n",
    "\n",
    "    mat, vec = gm.time_series_transformation(data, lags)\n",
    "    splited_data = gm.split_data(mat, vec, validate_size, False, 0)\n",
    "    \n",
    "elif chosen_dataset == datasets[1]:\n",
    "    data = pd.read_csv(\"Sberbank.csv\")['close'][-3000:]\n",
    "    lags = 15\n",
    "    test_size = 0.3\n",
    "    validate_size = 0.2\n",
    "    is_ts = True\n",
    "\n",
    "    mat, vec = gm.time_series_transformation(data, lags)\n",
    "    splited_data = gm.split_data(mat, vec, validate_size, False, 0)\n",
    "\n",
    "elif chosen_dataset == datasets[2]:\n",
    "    data = pd.read_csv(\"laptop_price.csv\")\n",
    "    #data = data[data.columns[data.dtypes != object]].drop(['laptop_ID', 'Memory2_GB'], axis=1)\n",
    "    data = data.drop(['laptop_ID', 'Memory2_GB'], axis=1)\n",
    "    data = data.drop(data[data['Ram_GB'] == 64].index)\n",
    "    test_size = 0.2\n",
    "    validate_size = 0.2\n",
    "    is_ts = False\n",
    "    category_cols = data.columns[data.dtypes == object]\n",
    "    #for col in category_cols:\n",
    "    #    print(f'{col}: {data[col].unique().size}')\n",
    "    data = pd.get_dummies(data=data.drop(['Product', 'Cpu_series', 'Gpu_series'], axis=1), \n",
    "                          columns=category_cols.drop(['Product', 'Cpu_series', 'Gpu_series']))\n",
    "    splited_data = gm.split_data(data.drop(['Price_euros'], axis=1), data['Price_euros'])\n",
    "    scaler = MinMaxScaler().fit(splited_data.x_train)\n",
    "    splited_data.x_train = scaler.transform(splited_data.x_train)\n",
    "    splited_data.x_test = scaler.transform(splited_data.x_test)\n",
    "\n",
    "else: print(\"unknown option:\", chosen_dataset)"
   ]
  },
  {
   "cell_type": "markdown",
   "id": "fa55637c",
   "metadata": {},
   "source": [
    "## Обучение моделей"
   ]
  },
  {
   "cell_type": "code",
   "execution_count": 7,
   "id": "ce0ae2ff",
   "metadata": {},
   "outputs": [],
   "source": [
    "# argument only for time series datasets\n",
    "#   set -1 to make predictions for all series based on real data in each step\n",
    "#   set positive integer value to predict some lags without watching real test data after each step\n",
    "lags_to_predict = 5"
   ]
  },
  {
   "cell_type": "code",
   "execution_count": 11,
   "id": "3c133e4f",
   "metadata": {
    "scrolled": false
   },
   "outputs": [
    {
     "name": "stderr",
     "output_type": "stream",
     "text": [
      "<timed exec>:3: Warning: \n",
      "Warning! The input number of n_jobs is incorrect!\n",
      "The default value is used (n_jobs = 1)!\n",
      "\n",
      "<timed exec>:3: Warning: \n",
      "Warning! The input number of p_average is incorrect!\n",
      "The default value is used (p_average = 1)!\n",
      "\n"
     ]
    },
    {
     "name": "stdout",
     "output_type": "stream",
     "text": [
      "COMBI model\n",
      "\n",
      "LEVEL 1  [=========================] 100% [00m:00s] (15 combinations) error=9594.187737                                 \n",
      "LEVEL 2  [=========================] 100% [00m:00s] (105 combinations) error=9475.315027                                \n",
      "LEVEL 3  [=========================] 100% [00m:00s] (455 combinations) error=9346.634503                                \n",
      "LEVEL 4  [=========================] 100% [00m:00s] (1365 combinations) error=9317.465985                               \n",
      "LEVEL 5  [=========================] 100% [00m:00s] (3003 combinations) error=9275.349956                               \n",
      "LEVEL 6  [=========================] 100% [00m:00s] (5005 combinations) error=9263.716963                               \n",
      "LEVEL 7  [=========================] 100% [00m:01s] (6435 combinations) error=9261.192399                               \n",
      "LEVEL 8  [=========================] 100% [00m:01s] (6435 combinations) error=9262.992104                               \n",
      "\n",
      "y = - 0.0132*x1 + 0.0288*x3 - 0.0067*x7 - 0.0256*x8 + 0.0465*x11 - 0.0042*x12 + 0.9718*x15 + 0.638\n",
      "\n",
      "METRICS\n",
      "R^2: -1.5070127370214066\n",
      "MSE: 99.75798785815536\n",
      "MAE: 7.9646787477151495\n",
      "\n",
      "CPU times: total: 4.62 s\n",
      "Wall time: 4.41 s\n"
     ]
    }
   ],
   "source": [
    "%%time\n",
    "print(\"COMBI model\\n\")\n",
    "combi = gm.Combi()\n",
    "combi.fit(splited_data.x_train, splited_data.y_train, \n",
    "          criterion=gm.SequentialCriterion(gm.CriterionType.regularity, gm.CriterionType.stability, solver=gm.Solver.accurate), \n",
    "          test_size=test_size, p_average=0, n_jobs=-10, verbose=1, limit=0)\n",
    "print(\"\\n\" + combi.get_best_polynomial())\n",
    "if is_ts and lags_to_predict > 0:\n",
    "    y_pred_combi = combi.predict(splited_data.x_test[0], lags_to_predict) \n",
    "    print_metrics(splited_data.y_test[:lags_to_predict], y_pred_combi)\n",
    "else:\n",
    "    y_pred_combi = combi.predict(splited_data.x_test)\n",
    "    print_metrics(splited_data.y_test, y_pred_combi)"
   ]
  },
  {
   "cell_type": "code",
   "execution_count": 8,
   "id": "a149ae28",
   "metadata": {
    "scrolled": false
   },
   "outputs": [
    {
     "name": "stdout",
     "output_type": "stream",
     "text": [
      "MULTI model\n",
      "\n",
      "LEVEL 1  [=========================] 100% [00m:00s] (15 combinations) error=8126.690212\n",
      "LEVEL 2  [=========================] 100% [00m:00s] (39 combinations) error=8011.604115\n",
      "LEVEL 3  [=========================] 100% [00m:00s] (36 combinations) error=7883.970821\n",
      "LEVEL 4  [=========================] 100% [00m:00s] (33 combinations) error=7856.10513\n",
      "LEVEL 5  [=========================] 100% [00m:00s] (30 combinations) error=7814.468967\n",
      "LEVEL 6  [=========================] 100% [00m:00s] (27 combinations) error=7802.857803\n",
      "LEVEL 7  [=========================] 100% [00m:00s] (24 combinations) error=7800.384971\n",
      "LEVEL 8  [=========================] 100% [00m:00s] (21 combinations) error=7802.653047\n",
      "\n",
      "y = - 0.0132*x1 + 0.0288*x3 - 0.0067*x7 - 0.0256*x8 + 0.0465*x11 - 0.0042*x12 + 0.9718*x15 + 0.638\n",
      "\n",
      "METRICS\n",
      "R^2: -1.5070127370214066\n",
      "MSE: 99.75798785815536\n",
      "MAE: 7.9646787477151495\n",
      "\n",
      "CPU times: user 1.47 s, sys: 9.03 ms, total: 1.48 s\n",
      "Wall time: 379 ms\n"
     ]
    }
   ],
   "source": [
    "%%time\n",
    "print(\"MULTI model\\n\")\n",
    "multi = gm.Multi()\n",
    "multi.fit(splited_data.x_train, splited_data.y_train, \n",
    "          criterion=gm.Criterion(gm.CriterionType.regularity, gm.Solver.accurate), \n",
    "          k_best=3, test_size=test_size, p_average=1, n_jobs=-1, verbose=1, limit=0)\n",
    "print(\"\\n\" + multi.get_best_polynomial())\n",
    "if is_ts and lags_to_predict > 0:\n",
    "    y_pred_multi = multi.predict(splited_data.x_test[0], lags_to_predict) \n",
    "    print_metrics(splited_data.y_test[:lags_to_predict], y_pred_multi)\n",
    "else:\n",
    "    y_pred_multi = multi.predict(splited_data.x_test)\n",
    "    print_metrics(splited_data.y_test, y_pred_multi)"
   ]
  },
  {
   "cell_type": "code",
   "execution_count": 13,
   "id": "8f1678bd",
   "metadata": {
    "scrolled": false
   },
   "outputs": [
    {
     "name": "stdout",
     "output_type": "stream",
     "text": [
      "MIA model\n",
      "\n",
      "LEVEL 1  [=========================] 100% [00m:00s] (105 combinations) error=9546.953061                                \n",
      "LEVEL 2  [=========================] 100% [00m:00s] (10 combinations) error=9512.496278                                 \n",
      "LEVEL 3  [=========================] 100% [00m:00s] (10 combinations) error=9500.732489                                 \n",
      "LEVEL 4  [=========================] 100% [00m:00s] (10 combinations) error=9499.463388                                 \n",
      "LEVEL 5  [=========================] 100% [00m:00s] (10 combinations) error=9499.084928                                 \n",
      "LEVEL 6  [=========================] 100% [00m:00s] (10 combinations) error=9499.423846                                 \n",
      "\n",
      "f1_1 = 0.0271*x11 + 0.9704*x15 + 0.6361\n",
      "f1_2 = 0.0249*x12 + 0.9725*x15 + 0.6582\n",
      "f1_3 = 0.0111*x10 + 0.9863*x15 + 0.6719\n",
      "f1_4 = 0.0095*x9 + 0.9879*x15 + 0.6706\n",
      "f1_5 = 0.0071*x4 + 0.9904*x15 + 0.6568\n",
      "\n",
      "f2_1 = 1.4665*f1_1 - 0.4665*f1_3 + 0.001\n",
      "f2_2 = 1.3156*f1_1 - 0.3156*f1_4 + 0.0008\n",
      "f2_3 = 1.1087*f1_1 - 0.1087*f1_5 + 0.0003\n",
      "f2_4 = 1.1327*f1_1 - 0.1327*f1_2 + 0.0002\n",
      "\n",
      "f3_1 = 1.1142*f2_2 - 0.1142*f2_4 + 1.73098e-05\n",
      "f3_2 = 1.3328*f2_1 - 0.3328*f2_3 + 8.07444e-05\n",
      "f3_3 = 0.7498*f2_3 + 0.2502*f2_4 - 4.13382e-06\n",
      "\n",
      "f4_1 = - 0.4185*f3_1 + 1.4185*f3_2 + 5.34945e-05\n",
      "f4_2 = 0.9683*f3_2 + 0.0317*f3_3 - 1.05539e-05\n",
      "\n",
      "y = 0.8789*f4_1 + 0.1211*f4_2 - 2.16859e-06\n",
      "\n",
      "METRICS\n",
      "R^2: -1.3684599450916757\n",
      "MSE: 94.24475390807129\n",
      "MAE: 7.696268791739536\n",
      "\n",
      "CPU times: total: 125 ms\n",
      "Wall time: 191 ms\n"
     ]
    }
   ],
   "source": [
    "%%time\n",
    "print(\"MIA model\\n\")\n",
    "mia = gm.Mia()\n",
    "mia.fit(splited_data.x_train, splited_data.y_train, \n",
    "        criterion=gm.Criterion(gm.CriterionType.sym_regularity, gm.Solver.accurate), \n",
    "        k_best=5, polynomial_type=gm.PolynomialType.linear, test_size=test_size,\n",
    "        p_average=1, n_jobs=-1, verbose=1, limit=0);\n",
    "print(\"\\n\" + mia.get_best_polynomial())\n",
    "if is_ts and lags_to_predict > 0:\n",
    "    y_pred_mia = mia.predict(splited_data.x_test[0], lags_to_predict) \n",
    "    print_metrics(splited_data.y_test[:lags_to_predict], y_pred_mia)\n",
    "else:\n",
    "    y_pred_mia = mia.predict(splited_data.x_test)\n",
    "    print_metrics(splited_data.y_test, y_pred_mia)"
   ]
  },
  {
   "cell_type": "code",
   "execution_count": 14,
   "id": "ce3d58d7",
   "metadata": {
    "scrolled": false
   },
   "outputs": [
    {
     "name": "stdout",
     "output_type": "stream",
     "text": [
      "RIA model\n",
      "\n",
      "LEVEL 1  [=========================] 100% [00m:00s] (105 combinations) error=8011.604115                                \n",
      "LEVEL 2  [=========================] 100% [00m:00s] (45 combinations) error=7976.489875                                 \n",
      "LEVEL 3  [=========================] 100% [00m:00s] (45 combinations) error=7922.104604                                 \n",
      "LEVEL 4  [=========================] 100% [00m:00s] (45 combinations) error=7905.738583                                 \n",
      "LEVEL 5  [=========================] 100% [00m:00s] (45 combinations) error=7889.911812                                 \n",
      "LEVEL 6  [=========================] 100% [00m:00s] (45 combinations) error=7886.828621                                 \n",
      "LEVEL 7  [=========================] 100% [00m:00s] (45 combinations) error=7881.841415                                 \n",
      "LEVEL 8  [=========================] 100% [00m:00s] (45 combinations) error=7880.565561                                 \n",
      "LEVEL 9  [=========================] 100% [00m:00s] (45 combinations) error=7877.545028                                 \n",
      "LEVEL 10 [=========================] 100% [00m:00s] (45 combinations) error=7877.190411                                 \n",
      "LEVEL 11 [=========================] 100% [00m:00s] (45 combinations) error=7875.37955                                  \n",
      "LEVEL 12 [=========================] 100% [00m:00s] (45 combinations) error=7875.23886                                  \n",
      "LEVEL 13 [=========================] 100% [00m:00s] (45 combinations) error=7874.319201                                 \n",
      "LEVEL 14 [=========================] 100% [00m:00s] (45 combinations) error=7874.102095                                 \n",
      "LEVEL 15 [=========================] 100% [00m:00s] (45 combinations) error=7873.807471                                 \n",
      "LEVEL 16 [=========================] 100% [00m:00s] (45 combinations) error=7873.527714                                 \n",
      "LEVEL 17 [=========================] 100% [00m:00s] (45 combinations) error=7873.422241                                 \n",
      "LEVEL 18 [=========================] 100% [00m:00s] (45 combinations) error=7873.12963                                  \n",
      "LEVEL 19 [=========================] 100% [00m:00s] (45 combinations) error=7873.064591                                 \n",
      "LEVEL 20 [=========================] 100% [00m:00s] (45 combinations) error=7872.849356                                 \n",
      "LEVEL 21 [=========================] 100% [00m:00s] (45 combinations) error=7872.803579                                 \n",
      "LEVEL 22 [=========================] 100% [00m:00s] (45 combinations) error=7872.651998                                 \n",
      "LEVEL 23 [=========================] 100% [00m:00s] (45 combinations) error=7872.619771                                 \n",
      "LEVEL 24 [=========================] 100% [00m:00s] (45 combinations) error=7872.513011                                 \n",
      "LEVEL 25 [=========================] 100% [00m:00s] (45 combinations) error=7872.49032                                  \n",
      "LEVEL 26 [=========================] 100% [00m:00s] (45 combinations) error=7872.415126                                 \n",
      "LEVEL 27 [=========================] 100% [00m:00s] (45 combinations) error=7872.399146                                 \n",
      "LEVEL 28 [=========================] 100% [00m:00s] (45 combinations) error=7872.346183                                 \n",
      "LEVEL 29 [=========================] 100% [00m:00s] (45 combinations) error=7872.331787                                 \n",
      "LEVEL 30 [=========================] 100% [00m:00s] (45 combinations) error=7872.297624                                 \n",
      "LEVEL 31 [=========================] 100% [00m:00s] (45 combinations) error=7872.282739                                 \n",
      "LEVEL 32 [=========================] 100% [00m:00s] (45 combinations) error=7872.26342                                  \n",
      "LEVEL 33 [=========================] 100% [00m:00s] (45 combinations) error=7872.248192                                 \n",
      "LEVEL 34 [=========================] 100% [00m:00s] (45 combinations) error=7872.239328                                 \n",
      "LEVEL 35 [=========================] 100% [00m:00s] (45 combinations) error=7872.223857                                 \n",
      "LEVEL 36 [=========================] 100% [00m:00s] (45 combinations) error=7872.219886                                 \n",
      "LEVEL 37 [=========================] 100% [00m:00s] (45 combinations) error=7872.206717                                 \n",
      "LEVEL 38 [=========================] 100% [00m:00s] (45 combinations) error=7872.203919                                 \n",
      "LEVEL 39 [=========================] 100% [00m:00s] (45 combinations) error=7872.194643                                 \n",
      "LEVEL 40 [=========================] 100% [00m:00s] (45 combinations) error=7872.192672                                 \n",
      "LEVEL 41 [=========================] 100% [00m:00s] (45 combinations) error=7872.186138                                 \n",
      "LEVEL 42 [=========================] 100% [00m:00s] (45 combinations) error=7872.18475                                  \n",
      "LEVEL 43 [=========================] 100% [00m:00s] (45 combinations) error=7872.180148                                 \n",
      "LEVEL 44 [=========================] 100% [00m:00s] (45 combinations) error=7872.17917                                  \n",
      "LEVEL 45 [=========================] 100% [00m:00s] (45 combinations) error=7872.175928                                 \n",
      "LEVEL 46 [=========================] 100% [00m:00s] (45 combinations) error=7872.175239                                 \n",
      "LEVEL 47 [=========================] 100% [00m:00s] (45 combinations) error=7872.172955                                 \n",
      "LEVEL 48 [=========================] 100% [00m:00s] (45 combinations) error=7872.17247                                  \n",
      "LEVEL 49 [=========================] 100% [00m:00s] (45 combinations) error=7872.170862                                 \n",
      "LEVEL 50 [=========================] 100% [00m:00s] (45 combinations) error=7872.17052                                  \n",
      "LEVEL 51 [=========================] 100% [00m:00s] (45 combinations) error=7872.169387                                 \n",
      "LEVEL 52 [=========================] 100% [00m:00s] (45 combinations) error=7872.169146                                 \n",
      "LEVEL 53 [=========================] 100% [00m:00s] (45 combinations) error=7872.168348                                 \n",
      "LEVEL 54 [=========================] 100% [00m:00s] (45 combinations) error=7872.168178                                 \n",
      "LEVEL 55 [=========================] 100% [00m:00s] (45 combinations) error=7872.167616                                 \n",
      "LEVEL 56 [=========================] 100% [00m:00s] (45 combinations) error=7872.167497                                 \n",
      "LEVEL 57 [=========================] 100% [00m:00s] (45 combinations) error=7872.167101                                 \n",
      "LEVEL 58 [=========================] 100% [00m:00s] (45 combinations) error=7872.167016                                 \n",
      "\n",
      "f1 = 0.0271*x11 + 0.9704*x15 + 0.6361\n",
      "f2 = - 0.0074*x8 + 1.0073*f1 + 0.0279\n",
      "f3 = - 0.4339*x15 + 1.4351*f2 - 0.3066\n",
      "f4 = - 0.0035*x8 + 1.0035*f3 + 0.0134\n",
      "f5 = - 0.0854*x15 + 1.0856*f4 - 0.0602\n",
      "f6 = - 0.0016*x12 + 1.0016*f5 + 0.0019\n",
      "f7 = - 0.0351*x15 + 1.0352*f6 - 0.0248\n",
      "f8 = - 0.0009*x12 + 1.0009*f7 + 0.001\n",
      "f9 = - 0.018*x15 + 1.0181*f8 - 0.0127\n",
      "f10 = - 0.0005*x12 + 1.0004*f9 + 0.0005\n",
      "f11 = - 0.0089*x15 + 1.0089*f10 - 0.0063\n",
      "f12 = - 0.0002*x12 + 1.0002*f11 + 0.0003\n",
      "f13 = - 0.0043*x15 + 1.0043*f12 - 0.003\n",
      "f14 = - 0.0001*x12 + 1.0001*f13 + 0.0001\n",
      "f15 = - 0.0021*x15 + 1.0021*f14 - 0.0015\n",
      "f16 = 9.79537e-05*x11 + 0.9999*f15 - 0.0002\n",
      "f17 = - 0.0001*x12 + 1.0001*f16 + 0.0002\n",
      "f18 = 0.0001*x11 + 0.9999*f17 - 0.0002\n",
      "f19 = - 2.75461e-06*x5 + 1*f18 + 1.58823e-05\n",
      "f20 = - 9.99475e-05*x12 + 1.0001*f19 + 0.0001\n",
      "f21 = 7.61404e-05*x11 + 0.9999*f20 - 0.0001\n",
      "f22 = - 7.30107e-05*x12 + 1.0001*f21 + 8.73818e-05\n",
      "f23 = 5.36372e-05*x11 + 0.9999*f22 - 9.69206e-05\n",
      "f24 = - 5.14286e-05*x12 + 1.0001*f23 + 6.15557e-05\n",
      "f25 = 3.7784e-05*x11 + 1*f24 - 6.82716e-05\n",
      "f26 = - 3.62264e-05*x12 + 1*f25 + 4.33619e-05\n",
      "f27 = 2.66161e-05*x11 + 1*f26 - 4.8091e-05\n",
      "f28 = - 2.55179e-05*x12 + 1*f27 + 3.05452e-05\n",
      "f29 = 1.87489e-05*x11 + 1*f28 - 3.38756e-05\n",
      "f30 = - 1.79749e-05*x12 + 1*f29 + 2.15166e-05\n",
      "f31 = 1.3207e-05*x11 + 1*f30 - 2.38621e-05\n",
      "f32 = - 1.26616e-05*x12 + 1*f31 + 1.51566e-05\n",
      "f33 = 9.3032e-06*x11 + 1*f32 - 1.68086e-05\n",
      "f34 = - 8.91884e-06*x12 + 1*f33 + 1.06765e-05\n",
      "f35 = 6.55326e-06*x11 + 1*f34 - 1.18401e-05\n",
      "f36 = - 6.28247e-06*x12 + 1*f35 + 7.52061e-06\n",
      "f37 = 4.61617e-06*x11 + 1*f36 - 8.34019e-06\n",
      "f38 = - 4.42539e-06*x12 + 1*f37 + 5.29758e-06\n",
      "f39 = 3.25166e-06*x11 + 1*f38 - 5.87487e-06\n",
      "f40 = - 3.11726e-06*x12 + 1*f39 + 3.73165e-06\n",
      "f41 = 2.29049e-06*x11 + 1*f40 - 4.13828e-06\n",
      "f42 = - 2.19581e-06*x12 + 1*f41 + 2.6286e-06\n",
      "f43 = 1.61344e-06*x11 + 1*f42 - 2.91502e-06\n",
      "f44 = - 1.54674e-06*x12 + 1*f43 + 1.8516e-06\n",
      "f45 = 1.13651e-06*x11 + 1*f44 - 2.05336e-06\n",
      "f46 = - 1.08953e-06*x12 + 1*f45 + 1.30427e-06\n",
      "f47 = 8.00565e-07*x11 + 1*f46 - 1.44639e-06\n",
      "f48 = - 7.67469e-07*x12 + 1*f47 + 9.18737e-07\n",
      "f49 = 5.63922e-07*x11 + 1*f48 - 1.01884e-06\n",
      "f50 = - 5.40608e-07*x12 + 1*f49 + 6.47163e-07\n",
      "f51 = 3.97229e-07*x11 + 1*f50 - 7.17679e-07\n",
      "f52 = - 3.80807e-07*x12 + 1*f51 + 4.55864e-07\n",
      "f53 = 2.7981e-07*x11 + 1*f52 - 5.05536e-07\n",
      "f54 = - 2.68242e-07*x12 + 1*f53 + 3.21113e-07\n",
      "f55 = 1.97099e-07*x11 + 1*f54 - 3.56102e-07\n",
      "f56 = - 1.88951e-07*x12 + 1*f55 + 2.26193e-07\n",
      "y = 1.38838e-07*x11 + 1*f56 - 2.50839e-07\n",
      "\n",
      "METRICS\n",
      "R^2: -1.2952120571777086\n",
      "MSE: 91.3301050093032\n",
      "MAE: 7.5278247119669\n",
      "\n",
      "CPU times: total: 844 ms\n",
      "Wall time: 1.86 s\n"
     ]
    }
   ],
   "source": [
    "%%time\n",
    "print(\"RIA model\\n\")\n",
    "ria = gm.Ria()\n",
    "ria.fit(splited_data.x_train, splited_data.y_train, \n",
    "        criterion=gm.Criterion(gm.CriterionType.regularity, gm.Solver.accurate),\n",
    "        k_best=3, polynomial_type=gm.PolynomialType.linear, test_size=test_size,\n",
    "        p_average=1, n_jobs=-1, verbose=1, limit=1e-4)\n",
    "print(\"\\n\" + ria.get_best_polynomial())\n",
    "if is_ts and lags_to_predict > 0:\n",
    "    y_pred_ria = ria.predict(splited_data.x_test[0], lags_to_predict) \n",
    "    print_metrics(splited_data.y_test[:lags_to_predict], y_pred_ria)\n",
    "else:\n",
    "    y_pred_ria = ria.predict(splited_data.x_test)\n",
    "    print_metrics(splited_data.y_test, y_pred_ria)"
   ]
  },
  {
   "cell_type": "code",
   "execution_count": 15,
   "id": "dd6e726f",
   "metadata": {
    "collapsed": true
   },
   "outputs": [
    {
     "name": "stdout",
     "output_type": "stream",
     "text": [
      "COMBI on python model\n",
      "\n",
      "y = 0.0074*x1 - 0.0055*x2 - 0.0086*x4 + 0.0141*x9 + 0.9925*x10 + 0.0131\n",
      "\n",
      "METRICS\n",
      "R^2: 0.9994748809277221\n",
      "MSE: 0.32659381457936076\n",
      "MAE: 0.36143711131149997\n",
      "\n",
      "CPU times: total: 28.8 s\n",
      "Wall time: 29.1 s\n"
     ]
    }
   ],
   "source": [
    "%%time\n",
    "print(\"COMBI on python model\\n\")\n",
    "y_pred_lr_combi = regression_combi(data, lags, validate_size, test_size)\n",
    "print_metrics(splited_data.y_test, y_pred_lr_combi)"
   ]
  },
  {
   "cell_type": "code",
   "execution_count": null,
   "id": "180a9d03",
   "metadata": {},
   "outputs": [],
   "source": [
    "%%time\n",
    "print(\"LR python model\\n\")\n",
    "y_pred_lr = regression(data, lags, validate_size)\n",
    "print_metrics(splited_data.y_test, y_pred_lr)"
   ]
  },
  {
   "cell_type": "markdown",
   "id": "62df7999",
   "metadata": {},
   "source": [
    "## Сравнение результатов"
   ]
  },
  {
   "cell_type": "code",
   "execution_count": 15,
   "id": "d5db0e37",
   "metadata": {},
   "outputs": [],
   "source": [
    "lags_to_predict = 10\n",
    "test_n_show = splited_data.y_test.shape[0]\n",
    "show_train = False"
   ]
  },
  {
   "cell_type": "code",
   "execution_count": 16,
   "id": "4cad5eee",
   "metadata": {},
   "outputs": [
    {
     "data": {
      "image/png": "[encoded data removed]",
      "text/plain": [
       "<Figure size 1224x576 with 1 Axes>"
      ]
     },
     "metadata": {
      "needs_background": "light"
     },
     "output_type": "display_data"
    }
   ],
   "source": [
    "if lags_to_predict > 0:\n",
    "    y_pred_combi = combi.predict(splited_data.x_test[0], lags_to_predict)\n",
    "    y_pred_multi = multi.predict(splited_data.x_test[0], lags_to_predict)\n",
    "    y_pred_mia = mia.predict(splited_data.x_test[0], lags_to_predict)\n",
    "    y_pred_ria = ria.predict(splited_data.x_test[0], lags_to_predict)\n",
    "    test_n_show = lags_to_predict\n",
    "else:\n",
    "    y_pred_combi = combi.predict(splited_data.x_test[:test_n_show])\n",
    "    y_pred_multi = multi.predict(splited_data.x_test[:test_n_show])\n",
    "    y_pred_mia = mia.predict(splited_data.x_test[:test_n_show])\n",
    "    y_pred_ria = ria.predict(splited_data.x_test[:test_n_show])\n",
    "\n",
    "start_test = splited_data.y_train.shape[0]\n",
    "end_test = start_test + test_n_show\n",
    "plt.figure(figsize=(17, 8))\n",
    "if show_train:\n",
    "    sns.lineplot(x=np.arange(0, end_test), y=list(splited_data.y_train) + list(splited_data.y_test[:test_n_show]), label='original');\n",
    "else:\n",
    "    sns.lineplot(x=np.arange(start_test, end_test), y=splited_data.y_test[:test_n_show], label='original');\n",
    "sns.lineplot(x=np.arange(start_test, end_test), y=y_pred_combi[:test_n_show], label='combi');\n",
    "sns.lineplot(x=np.arange(start_test, end_test), y=y_pred_multi[:test_n_show], label='multi');\n",
    "sns.lineplot(x=np.arange(start_test, end_test), y=y_pred_mia[:test_n_show], label='mia');\n",
    "sns.lineplot(x=np.arange(start_test, end_test), y=y_pred_ria[:test_n_show], label='ria');\n",
    "#sns.lineplot(x=np.arange(start_test, end_test), y=y_pred_lr_combi[:test_n], label='regr_combi');\n",
    "#sns.lineplot(x=np.arange(start_test, end_test), y=y_pred_lr[:test_n], label='regr');\n",
    "plt.title(\"Results comparison\")\n",
    "plt.ylabel(\"predicted values\")\n",
    "plt.show();"
   ]
  },
  {
   "cell_type": "code",
   "execution_count": 17,
   "id": "ef14a7fe",
   "metadata": {
    "scrolled": false
   },
   "outputs": [
    {
     "name": "stdout",
     "output_type": "stream",
     "text": [
      "Оценка верных предсказаний направления изменения цен акции\n",
      "\n",
      "COMBI\n",
      "right: 6\n",
      "wrong: 3\n",
      "zero: 0\n",
      "\n",
      "MULTI\n",
      "right: 6\n",
      "wrong: 3\n",
      "zero: 0\n",
      "\n",
      "MIA\n",
      "right: 6\n",
      "wrong: 3\n",
      "zero: 0\n",
      "\n",
      "RIA\n",
      "right: 6\n",
      "wrong: 3\n",
      "zero: 0\n"
     ]
    }
   ],
   "source": [
    "print(\"Оценка верных предсказаний направления изменения цен акции\\n\")\n",
    "print(\"COMBI\")\n",
    "ts_stat(splited_data.y_test[:test_n_show], y_pred_combi)\n",
    "print(\"\\nMULTI\")\n",
    "ts_stat(splited_data.y_test[:test_n_show], y_pred_multi)\n",
    "print(\"\\nMIA\")\n",
    "ts_stat(splited_data.y_test[:test_n_show], y_pred_mia)\n",
    "print(\"\\nRIA\")\n",
    "ts_stat(splited_data.y_test[:test_n_show], y_pred_ria)"
   ]
  },
  {
   "cell_type": "markdown",
   "id": "0024f84e",
   "metadata": {},
   "source": [
    "## Пример обработки некорректных данных"
   ]
  },
  {
   "cell_type": "code",
   "execution_count": 11,
   "id": "ceb558fa",
   "metadata": {},
   "outputs": [
    {
     "name": "stdout",
     "output_type": "stream",
     "text": [
      "Input data number of cols is not match number of cols of fitted data!\n",
      "Input model file path is not exist!\n",
      "Input model file path is not exist!\n",
      "Input file for model is MIA, but used model is MULTI!\n",
      "Input model file is corrupted!\n"
     ]
    }
   ],
   "source": [
    "try:\n",
    "    y_pred_multi = multi.predict(np.delete(splited_data.x_test, -1, 1))\n",
    "except gm.GmdhException as err:\n",
    "    print(err)\n",
    "try:\n",
    "    multi.save(\"./\")\n",
    "except gm.GmdhException as err:\n",
    "    print(err)\n",
    "try:\n",
    "    multi.load(\"multi.txt\")\n",
    "except gm.GmdhException as err:\n",
    "    print(err)\n",
    "try:\n",
    "    multi.load(\"mia1.txt\")\n",
    "except gm.GmdhException as err:\n",
    "    print(err)\n",
    "try:\n",
    "    multi.load(\"multi1.txt\")\n",
    "except gm.GmdhException as err:\n",
    "    print(err)"
   ]
  },
  {
   "cell_type": "markdown",
   "id": "a4498e05",
   "metadata": {},
   "source": [
    "## Пример сохранения и загрузки модели из файла"
   ]
  },
  {
   "cell_type": "code",
   "execution_count": 19,
   "id": "ebe25f93",
   "metadata": {},
   "outputs": [
    {
     "name": "stdout",
     "output_type": "stream",
     "text": [
      "Предсказания до сохранения и после загрузки совпали\n"
     ]
    }
   ],
   "source": [
    "y_pred_mia = mia.predict(splited_data.x_test)\n",
    "mia.save(\"mia1.txt\")\n",
    "new_mia = gm.Mia()\n",
    "new_mia.load(\"mia1.txt\")\n",
    "y_pred_new_mia = new_mia.predict(splited_data.x_test)\n",
    "\n",
    "if (np.round(y_pred_mia, 4) == np.round(y_pred_new_mia, 4)).sum() == splited_data.x_test.shape[0]:\n",
    "    print(\"Предсказания до сохранения и после загрузки совпали\")\n",
    "else:\n",
    "    print(\"ОШИБКА! Предсказания до сохранения и после загрузки отличаются\")"
   ]
  }
 ],
 "metadata": {
  "kernelspec": {
   "display_name": "Python 3 (ipykernel)",
   "language": "python",
   "name": "python3"
  },
  "language_info": {
   "codemirror_mode": {
    "name": "ipython",
    "version": 3
   },
   "file_extension": ".py",
   "mimetype": "text/x-python",
   "name": "python",
   "nbconvert_exporter": "python",
   "pygments_lexer": "ipython3",
   "version": "3.10.8"
  },
  "vscode": {
   "interpreter": {
    "hash": "117e2c7f3285f5d2f137d5e72113d05e6f04cb1a18347662a835ce34a0a2b260"
   }
  }
 },
 "nbformat": 4,
 "nbformat_minor": 5
}
